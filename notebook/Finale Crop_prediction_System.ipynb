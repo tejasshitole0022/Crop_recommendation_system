{
 "cells": [
  {
   "cell_type": "code",
   "execution_count": 136,
   "metadata": {
    "colab": {
     "base_uri": "https://localhost:8080/",
     "height": 206
    },
    "id": "FQV51slPxowr",
    "outputId": "ec074a7d-d72e-4af1-8b7a-254be2b79ba7"
   },
   "outputs": [
    {
     "data": {
      "text/html": [
       "<div>\n",
       "<style scoped>\n",
       "    .dataframe tbody tr th:only-of-type {\n",
       "        vertical-align: middle;\n",
       "    }\n",
       "\n",
       "    .dataframe tbody tr th {\n",
       "        vertical-align: top;\n",
       "    }\n",
       "\n",
       "    .dataframe thead th {\n",
       "        text-align: right;\n",
       "    }\n",
       "</style>\n",
       "<table border=\"1\" class=\"dataframe\">\n",
       "  <thead>\n",
       "    <tr style=\"text-align: right;\">\n",
       "      <th></th>\n",
       "      <th>N</th>\n",
       "      <th>P</th>\n",
       "      <th>K</th>\n",
       "      <th>temperature</th>\n",
       "      <th>humidity</th>\n",
       "      <th>ph</th>\n",
       "      <th>rainfall</th>\n",
       "      <th>label</th>\n",
       "    </tr>\n",
       "  </thead>\n",
       "  <tbody>\n",
       "    <tr>\n",
       "      <th>0</th>\n",
       "      <td>90</td>\n",
       "      <td>42</td>\n",
       "      <td>43</td>\n",
       "      <td>20.879744</td>\n",
       "      <td>82.002744</td>\n",
       "      <td>6.502985</td>\n",
       "      <td>202.935536</td>\n",
       "      <td>rice</td>\n",
       "    </tr>\n",
       "    <tr>\n",
       "      <th>1</th>\n",
       "      <td>85</td>\n",
       "      <td>58</td>\n",
       "      <td>41</td>\n",
       "      <td>21.770462</td>\n",
       "      <td>80.319644</td>\n",
       "      <td>7.038096</td>\n",
       "      <td>226.655537</td>\n",
       "      <td>rice</td>\n",
       "    </tr>\n",
       "    <tr>\n",
       "      <th>2</th>\n",
       "      <td>60</td>\n",
       "      <td>55</td>\n",
       "      <td>44</td>\n",
       "      <td>23.004459</td>\n",
       "      <td>82.320763</td>\n",
       "      <td>7.840207</td>\n",
       "      <td>263.964248</td>\n",
       "      <td>rice</td>\n",
       "    </tr>\n",
       "    <tr>\n",
       "      <th>3</th>\n",
       "      <td>74</td>\n",
       "      <td>35</td>\n",
       "      <td>40</td>\n",
       "      <td>26.491096</td>\n",
       "      <td>80.158363</td>\n",
       "      <td>6.980401</td>\n",
       "      <td>242.864034</td>\n",
       "      <td>rice</td>\n",
       "    </tr>\n",
       "    <tr>\n",
       "      <th>4</th>\n",
       "      <td>78</td>\n",
       "      <td>42</td>\n",
       "      <td>42</td>\n",
       "      <td>20.130175</td>\n",
       "      <td>81.604873</td>\n",
       "      <td>7.628473</td>\n",
       "      <td>262.717340</td>\n",
       "      <td>rice</td>\n",
       "    </tr>\n",
       "  </tbody>\n",
       "</table>\n",
       "</div>"
      ],
      "text/plain": [
       "    N   P   K  temperature   humidity        ph    rainfall label\n",
       "0  90  42  43    20.879744  82.002744  6.502985  202.935536  rice\n",
       "1  85  58  41    21.770462  80.319644  7.038096  226.655537  rice\n",
       "2  60  55  44    23.004459  82.320763  7.840207  263.964248  rice\n",
       "3  74  35  40    26.491096  80.158363  6.980401  242.864034  rice\n",
       "4  78  42  42    20.130175  81.604873  7.628473  262.717340  rice"
      ]
     },
     "execution_count": 136,
     "metadata": {},
     "output_type": "execute_result"
    }
   ],
   "source": [
    "import numpy as np\n",
    "import pandas as pd\n",
    "from sklearn.model_selection import train_test_split\n",
    "from sklearn.linear_model import LinearRegression\n",
    "from sklearn.preprocessing import LabelEncoder\n",
    "import matplotlib.pyplot as plt\n",
    "import seaborn as sns\n",
    "\n",
    "# df = pd.read_csv(\"D:\\crop\\sample_enhanced.csv\")\n",
    "df=pd.read_csv(r\"C:\\Users\\Tejas\\Downloads\\crop_data.csv\")\n",
    "df.head()"
   ]
  },
  {
   "cell_type": "code",
   "execution_count": 137,
   "metadata": {
    "colab": {
     "base_uri": "https://localhost:8080/",
     "height": 206
    },
    "id": "S51pox74zJp-",
    "outputId": "badcfd84-1971-4b06-94f1-78345a74c7fa"
   },
   "outputs": [],
   "source": [
    "sample_df = df.sample(10)\n",
    "\n",
    "# sample_df.to_csv('sample_enhanced.csv')"
   ]
  },
  {
   "cell_type": "code",
   "execution_count": 138,
   "metadata": {
    "colab": {
     "base_uri": "https://localhost:8080/"
    },
    "id": "NRAOXnouzLVk",
    "outputId": "32d6c148-295c-4517-adf0-362e17fc53a8"
   },
   "outputs": [
    {
     "name": "stdout",
     "output_type": "stream",
     "text": [
      "<class 'pandas.core.frame.DataFrame'>\n",
      "RangeIndex: 2200 entries, 0 to 2199\n",
      "Data columns (total 8 columns):\n",
      " #   Column       Non-Null Count  Dtype  \n",
      "---  ------       --------------  -----  \n",
      " 0   N            2200 non-null   int64  \n",
      " 1   P            2200 non-null   int64  \n",
      " 2   K            2200 non-null   int64  \n",
      " 3   temperature  2200 non-null   float64\n",
      " 4   humidity     2200 non-null   float64\n",
      " 5   ph           2200 non-null   float64\n",
      " 6   rainfall     2200 non-null   float64\n",
      " 7   label        2200 non-null   object \n",
      "dtypes: float64(4), int64(3), object(1)\n",
      "memory usage: 137.6+ KB\n"
     ]
    }
   ],
   "source": [
    "df.info()"
   ]
  },
  {
   "cell_type": "code",
   "execution_count": 139,
   "metadata": {
    "colab": {
     "base_uri": "https://localhost:8080/"
    },
    "id": "wMfS3fmr2ZID",
    "outputId": "17c08908-38b8-4047-b3f5-9ee5cdb06fb2"
   },
   "outputs": [
    {
     "data": {
      "text/plain": [
       "N              0\n",
       "P              0\n",
       "K              0\n",
       "temperature    0\n",
       "humidity       0\n",
       "ph             0\n",
       "rainfall       0\n",
       "label          0\n",
       "dtype: int64"
      ]
     },
     "execution_count": 139,
     "metadata": {},
     "output_type": "execute_result"
    }
   ],
   "source": [
    "df.isnull().sum()"
   ]
  },
  {
   "cell_type": "code",
   "execution_count": 140,
   "metadata": {
    "colab": {
     "base_uri": "https://localhost:8080/"
    },
    "id": "QeDwPakk3Mxm",
    "outputId": "73b5a438-816f-41bd-bb5b-14f81685913b"
   },
   "outputs": [
    {
     "data": {
      "text/plain": [
       "array(['rice', 'maize', 'chickpea', 'kidneybeans', 'pigeonpeas',\n",
       "       'mothbeans', 'mungbean', 'blackgram', 'lentil', 'pomegranate',\n",
       "       'banana', 'mango', 'grapes', 'watermelon', 'muskmelon', 'apple',\n",
       "       'orange', 'papaya', 'coconut', 'cotton', 'jute', 'coffee'],\n",
       "      dtype=object)"
      ]
     },
     "execution_count": 140,
     "metadata": {},
     "output_type": "execute_result"
    }
   ],
   "source": [
    "df['label'].unique()"
   ]
  },
  {
   "cell_type": "code",
   "execution_count": 141,
   "metadata": {
    "colab": {
     "base_uri": "https://localhost:8080/"
    },
    "id": "WNmOL10L0yfn",
    "outputId": "03141f2d-6ef3-4269-8a8d-ac458faef00f"
   },
   "outputs": [
    {
     "data": {
      "text/plain": [
       "label\n",
       "rice           100\n",
       "maize          100\n",
       "jute           100\n",
       "cotton         100\n",
       "coconut        100\n",
       "papaya         100\n",
       "orange         100\n",
       "apple          100\n",
       "muskmelon      100\n",
       "watermelon     100\n",
       "grapes         100\n",
       "mango          100\n",
       "banana         100\n",
       "pomegranate    100\n",
       "lentil         100\n",
       "blackgram      100\n",
       "mungbean       100\n",
       "mothbeans      100\n",
       "pigeonpeas     100\n",
       "kidneybeans    100\n",
       "chickpea       100\n",
       "coffee         100\n",
       "Name: count, dtype: int64"
      ]
     },
     "execution_count": 141,
     "metadata": {},
     "output_type": "execute_result"
    }
   ],
   "source": [
    "df['label'].value_counts()"
   ]
  },
  {
   "cell_type": "code",
   "execution_count": 142,
   "metadata": {
    "colab": {
     "base_uri": "https://localhost:8080/"
    },
    "id": "XQ7ltyujz0eS",
    "outputId": "5ef92d4d-f2ab-4d81-c965-19afc44fedf5"
   },
   "outputs": [
    {
     "name": "stdout",
     "output_type": "stream",
     "text": [
      "        N    P    K  temperature   humidity        ph    rainfall\n",
      "403    27   57   24    27.335349  43.357960  6.091863  142.330368\n",
      "698    23   45   23    28.776535  86.691340  6.983130   56.124432\n",
      "2044   94   37   41    24.763452  87.060711  6.463539  179.163086\n",
      "821    13   61   24    18.297836  69.689762  7.629910   49.391115\n",
      "1936  113   38   25    22.000851  79.472710  7.388266   90.422242\n",
      "...   ...  ...  ...          ...        ...       ...         ...\n",
      "1144   31   29   26    28.223734  47.405191  5.024125   97.768323\n",
      "48     79   43   39    21.666283  80.709606  7.062779  210.814209\n",
      "772    21   80   20    28.206673  68.270852  7.350870   64.328871\n",
      "1848   29   17   29    29.203949  95.669973  5.959493  211.250627\n",
      "1231    7  126  203    16.762017  82.003356  5.662140   73.287128\n",
      "\n",
      "[1540 rows x 7 columns]\n",
      "403     pigeonpeas\n",
      "698       mungbean\n",
      "2044          jute\n",
      "821         lentil\n",
      "1936        cotton\n",
      "           ...    \n",
      "1144         mango\n",
      "48            rice\n",
      "772      blackgram\n",
      "1848       coconut\n",
      "1231        grapes\n",
      "Name: label, Length: 1540, dtype: object\n"
     ]
    }
   ],
   "source": [
    "features = df[['N', 'P','K','temperature', 'humidity', 'ph', 'rainfall']]\n",
    "target = df['label']\n",
    "\n",
    "X_train,X_test,y_train,y_test = train_test_split(features,target,test_size=0.3,random_state=21)\n",
    "\n",
    "print(X_train)\n",
    "print(y_train)"
   ]
  },
  {
   "cell_type": "code",
   "execution_count": 143,
   "metadata": {
    "colab": {
     "base_uri": "https://localhost:8080/",
     "height": 643
    },
    "id": "kXX22Fmj1taT",
    "outputId": "f0cf6acb-cf27-4cd1-8111-924e482543ef"
   },
   "outputs": [
    {
     "data": {
      "image/png": "[encoded data removed]",
      "text/plain": [
       "<Figure size 960x768 with 2 Axes>"
      ]
     },
     "metadata": {},
     "output_type": "display_data"
    }
   ],
   "source": [
    "plt.figure(figsize=(10,8),dpi=96)\n",
    "sns.heatmap(data=features.corr(),annot=True)\n",
    "plt.show()"
   ]
  },
  {
   "cell_type": "code",
   "execution_count": 144,
   "metadata": {
    "id": "unOm2Utf3uff"
   },
   "outputs": [],
   "source": [
    "acc = []\n",
    "model = []"
   ]
  },
  {
   "cell_type": "code",
   "execution_count": 145,
   "metadata": {
    "colab": {
     "base_uri": "https://localhost:8080/"
    },
    "id": "vGSRrWaQ25iU",
    "outputId": "580ffd85-dd5f-4940-97f3-fb2e64e59876"
   },
   "outputs": [
    {
     "name": "stdout",
     "output_type": "stream",
     "text": [
      "DecisionTrees's Accuracy is:  86.81818181818181\n",
      "              precision    recall  f1-score   support\n",
      "\n",
      "       apple       1.00      1.00      1.00        24\n",
      "      banana       0.97      1.00      0.98        32\n",
      "   blackgram       0.62      0.97      0.76        32\n",
      "    chickpea       1.00      1.00      1.00        28\n",
      "     coconut       1.00      1.00      1.00        28\n",
      "      coffee       0.97      1.00      0.99        37\n",
      "      cotton       1.00      1.00      1.00        28\n",
      "      grapes       1.00      1.00      1.00        33\n",
      "        jute       0.65      0.91      0.76        34\n",
      " kidneybeans       0.00      0.00      0.00        29\n",
      "      lentil       0.59      1.00      0.74        33\n",
      "       maize       0.96      1.00      0.98        25\n",
      "       mango       1.00      1.00      1.00        28\n",
      "   mothbeans       0.00      0.00      0.00        36\n",
      "    mungbean       1.00      1.00      1.00        32\n",
      "   muskmelon       1.00      1.00      1.00        29\n",
      "      orange       1.00      1.00      1.00        30\n",
      "      papaya       1.00      0.69      0.81        32\n",
      "  pigeonpeas       0.49      1.00      0.66        22\n",
      " pomegranate       1.00      1.00      1.00        30\n",
      "        rice       0.92      0.74      0.82        31\n",
      "  watermelon       1.00      1.00      1.00        27\n",
      "\n",
      "    accuracy                           0.87       660\n",
      "   macro avg       0.83      0.88      0.84       660\n",
      "weighted avg       0.82      0.87      0.83       660\n",
      "\n"
     ]
    }
   ],
   "source": [
    "from sklearn.tree import DecisionTreeClassifier\n",
    "from sklearn.metrics import classification_report\n",
    "from sklearn import metrics\n",
    "from sklearn import tree\n",
    "import warnings\n",
    "warnings.filterwarnings('ignore')\n",
    "\n",
    "DecisionTree = DecisionTreeClassifier(criterion=\"entropy\",random_state=2,max_depth=5)\n",
    "\n",
    "DecisionTree.fit(X_train,y_train)\n",
    "\n",
    "predicted_values = DecisionTree.predict(X_test)\n",
    "x = metrics.accuracy_score(y_test, predicted_values)\n",
    "acc.append(x)\n",
    "model.append('Decision Tree')\n",
    "print(\"DecisionTrees's Accuracy is: \", x*100)\n",
    "\n",
    "print(classification_report(y_test,predicted_values))"
   ]
  },
  {
   "cell_type": "code",
   "execution_count": 146,
   "metadata": {
    "colab": {
     "base_uri": "https://localhost:8080/"
    },
    "id": "XMAVFinf3ckB",
    "outputId": "d1724267-4b6f-4b91-8da4-95e34d85803f"
   },
   "outputs": [
    {
     "data": {
      "text/plain": [
       "array([0.93636364, 0.87363636])"
      ]
     },
     "execution_count": 146,
     "metadata": {},
     "output_type": "execute_result"
    }
   ],
   "source": [
    "from sklearn.model_selection import cross_val_score\n",
    "score = cross_val_score(DecisionTree, features, target,cv=2)\n",
    "score"
   ]
  },
  {
   "cell_type": "code",
   "execution_count": 147,
   "metadata": {
    "colab": {
     "base_uri": "https://localhost:8080/",
     "height": 236
    },
    "id": "2rJMmW8-4ach",
    "outputId": "ef0afa3f-f752-4678-f4d4-a712842e022c"
   },
   "outputs": [],
   "source": [
    "import pickle\n",
    "# Dump the trained Naive Bayes classifier with Pickle\n",
    "DT_pkl_filename = '../models/DecisionTree.pkl'\n",
    "# Open the file to save as pkl file\n",
    "DT_Model_pkl = open(DT_pkl_filename, 'wb')\n",
    "pickle.dump(DecisionTree, DT_Model_pkl)\n",
    "# Close the pickle instances\n",
    "DT_Model_pkl.close()"
   ]
  },
  {
   "cell_type": "code",
   "execution_count": 148,
   "metadata": {
    "id": "NyT87rN84kpm"
   },
   "outputs": [
    {
     "name": "stdout",
     "output_type": "stream",
     "text": [
      "Naive Bayes's Accuracy is:  0.9954545454545455\n",
      "              precision    recall  f1-score   support\n",
      "\n",
      "       apple       1.00      1.00      1.00        24\n",
      "      banana       1.00      1.00      1.00        32\n",
      "   blackgram       1.00      1.00      1.00        32\n",
      "    chickpea       1.00      1.00      1.00        28\n",
      "     coconut       1.00      1.00      1.00        28\n",
      "      coffee       1.00      1.00      1.00        37\n",
      "      cotton       1.00      1.00      1.00        28\n",
      "      grapes       1.00      1.00      1.00        33\n",
      "        jute       0.92      1.00      0.96        34\n",
      " kidneybeans       1.00      1.00      1.00        29\n",
      "      lentil       1.00      1.00      1.00        33\n",
      "       maize       1.00      1.00      1.00        25\n",
      "       mango       1.00      1.00      1.00        28\n",
      "   mothbeans       1.00      1.00      1.00        36\n",
      "    mungbean       1.00      1.00      1.00        32\n",
      "   muskmelon       1.00      1.00      1.00        29\n",
      "      orange       1.00      1.00      1.00        30\n",
      "      papaya       1.00      1.00      1.00        32\n",
      "  pigeonpeas       1.00      1.00      1.00        22\n",
      " pomegranate       1.00      1.00      1.00        30\n",
      "        rice       1.00      0.90      0.95        31\n",
      "  watermelon       1.00      1.00      1.00        27\n",
      "\n",
      "    accuracy                           1.00       660\n",
      "   macro avg       1.00      1.00      1.00       660\n",
      "weighted avg       1.00      1.00      1.00       660\n",
      "\n"
     ]
    }
   ],
   "source": [
    "from sklearn.naive_bayes import GaussianNB\n",
    "\n",
    "NaiveBayes = GaussianNB()\n",
    "\n",
    "NaiveBayes.fit(X_train,y_train)\n",
    "\n",
    "predicted_values = NaiveBayes.predict(X_test)\n",
    "x = metrics.accuracy_score(y_test, predicted_values)\n",
    "acc.append(x)\n",
    "model.append('Naive Bayes')\n",
    "print(\"Naive Bayes's Accuracy is: \", x)\n",
    "\n",
    "print(classification_report(y_test,predicted_values))"
   ]
  },
  {
   "cell_type": "code",
   "execution_count": 149,
   "metadata": {},
   "outputs": [],
   "source": [
    "import pickle\n",
    "# Dump the trained Naive Bayes classifier with Pickle\n",
    "NB_pkl_filename = '../models/NBClassifier.pkl'\n",
    "# Open the file to save as pkl file\n",
    "NB_Model_pkl = open(NB_pkl_filename, 'wb')\n",
    "pickle.dump(NaiveBayes, NB_Model_pkl)\n",
    "# Close the pickle instances\n",
    "NB_Model_pkl.close()"
   ]
  },
  {
   "cell_type": "code",
   "execution_count": 150,
   "metadata": {},
   "outputs": [
    {
     "name": "stdout",
     "output_type": "stream",
     "text": [
      "SVM's Accuracy is:  0.9863636363636363\n",
      "              precision    recall  f1-score   support\n",
      "\n",
      "       apple       1.00      1.00      1.00        24\n",
      "      banana       1.00      1.00      1.00        32\n",
      "   blackgram       0.97      0.97      0.97        32\n",
      "    chickpea       1.00      1.00      1.00        28\n",
      "     coconut       1.00      1.00      1.00        28\n",
      "      coffee       1.00      1.00      1.00        37\n",
      "      cotton       1.00      1.00      1.00        28\n",
      "      grapes       1.00      1.00      1.00        33\n",
      "        jute       0.91      0.91      0.91        34\n",
      " kidneybeans       1.00      1.00      1.00        29\n",
      "      lentil       0.94      0.97      0.96        33\n",
      "       maize       1.00      1.00      1.00        25\n",
      "       mango       1.00      1.00      1.00        28\n",
      "   mothbeans       1.00      0.97      0.99        36\n",
      "    mungbean       1.00      1.00      1.00        32\n",
      "   muskmelon       1.00      1.00      1.00        29\n",
      "      orange       1.00      1.00      1.00        30\n",
      "      papaya       0.97      1.00      0.98        32\n",
      "  pigeonpeas       1.00      1.00      1.00        22\n",
      " pomegranate       1.00      1.00      1.00        30\n",
      "        rice       0.93      0.90      0.92        31\n",
      "  watermelon       1.00      1.00      1.00        27\n",
      "\n",
      "    accuracy                           0.99       660\n",
      "   macro avg       0.99      0.99      0.99       660\n",
      "weighted avg       0.99      0.99      0.99       660\n",
      "\n"
     ]
    }
   ],
   "source": [
    "from sklearn.svm import SVC\n",
    "# data normalization with sklearn\n",
    "from sklearn.preprocessing import MinMaxScaler\n",
    "# fit scaler on training data\n",
    "norm = MinMaxScaler().fit(X_train)\n",
    "X_train_norm = norm.transform(X_train)\n",
    "# transform testing dataabs\n",
    "X_test_norm = norm.transform(X_test)\n",
    "SVM = SVC(kernel='poly', degree=3, C=1)\n",
    "SVM.fit(X_train_norm,y_train)\n",
    "predicted_values = SVM.predict(X_test_norm)\n",
    "x = metrics.accuracy_score(y_test, predicted_values)\n",
    "acc.append(x)\n",
    "model.append('SVM')\n",
    "print(\"SVM's Accuracy is: \", x)\n",
    "\n",
    "print(classification_report(y_test,predicted_values))"
   ]
  },
  {
   "cell_type": "code",
   "execution_count": 151,
   "metadata": {},
   "outputs": [],
   "source": [
    "import pickle\n",
    "# Dump the trained SVM classifier with Pickle\n",
    "SVM_pkl_filename = '../models/SVMClassifier.pkl'\n",
    "# Open the file to save as pkl file\n",
    "SVM_Model_pkl = open(SVM_pkl_filename, 'wb')\n",
    "pickle.dump(SVM, SVM_Model_pkl)\n",
    "# Close the pickle instances\n",
    "SVM_Model_pkl.close()"
   ]
  },
  {
   "cell_type": "code",
   "execution_count": 152,
   "metadata": {},
   "outputs": [
    {
     "name": "stdout",
     "output_type": "stream",
     "text": [
      "Logistic Regression's Accuracy is:  0.956060606060606\n",
      "              precision    recall  f1-score   support\n",
      "\n",
      "       apple       1.00      1.00      1.00        24\n",
      "      banana       1.00      1.00      1.00        32\n",
      "   blackgram       0.83      0.91      0.87        32\n",
      "    chickpea       1.00      1.00      1.00        28\n",
      "     coconut       1.00      1.00      1.00        28\n",
      "      coffee       0.95      1.00      0.97        37\n",
      "      cotton       0.93      0.93      0.93        28\n",
      "      grapes       1.00      1.00      1.00        33\n",
      "        jute       0.88      0.85      0.87        34\n",
      " kidneybeans       0.97      1.00      0.98        29\n",
      "      lentil       0.91      0.94      0.93        33\n",
      "       maize       0.91      0.80      0.85        25\n",
      "       mango       1.00      1.00      1.00        28\n",
      "   mothbeans       0.94      0.86      0.90        36\n",
      "    mungbean       0.97      0.97      0.97        32\n",
      "   muskmelon       1.00      1.00      1.00        29\n",
      "      orange       1.00      1.00      1.00        30\n",
      "      papaya       0.94      0.97      0.95        32\n",
      "  pigeonpeas       1.00      0.95      0.98        22\n",
      " pomegranate       1.00      1.00      1.00        30\n",
      "        rice       0.87      0.87      0.87        31\n",
      "  watermelon       1.00      1.00      1.00        27\n",
      "\n",
      "    accuracy                           0.96       660\n",
      "   macro avg       0.96      0.96      0.96       660\n",
      "weighted avg       0.96      0.96      0.96       660\n",
      "\n"
     ]
    }
   ],
   "source": [
    "from sklearn.linear_model import LogisticRegression\n",
    "\n",
    "LogReg = LogisticRegression(random_state=2)\n",
    "\n",
    "LogReg.fit(X_train,y_train)\n",
    "\n",
    "predicted_values = LogReg.predict(X_test)\n",
    "\n",
    "x = metrics.accuracy_score(y_test, predicted_values)\n",
    "acc.append(x)\n",
    "model.append('Logistic Regression')\n",
    "print(\"Logistic Regression's Accuracy is: \", x)\n",
    "\n",
    "print(classification_report(y_test,predicted_values))"
   ]
  },
  {
   "cell_type": "code",
   "execution_count": 153,
   "metadata": {},
   "outputs": [],
   "source": [
    "import pickle\n",
    "# Dump the trained Naive Bayes classifier with Pickle\n",
    "LR_pkl_filename = '../models/LogisticRegression.pkl'\n",
    "# Open the file to save as pkl file\n",
    "LR_Model_pkl = open(DT_pkl_filename, 'wb')\n",
    "pickle.dump(LogReg, LR_Model_pkl)\n",
    "# Close the pickle instances\n",
    "LR_Model_pkl.close()"
   ]
  },
  {
   "cell_type": "code",
   "execution_count": 154,
   "metadata": {},
   "outputs": [
    {
     "name": "stdout",
     "output_type": "stream",
     "text": [
      "RF's Accuracy is:  0.9939393939393939\n",
      "              precision    recall  f1-score   support\n",
      "\n",
      "       apple       1.00      1.00      1.00        24\n",
      "      banana       1.00      1.00      1.00        32\n",
      "   blackgram       1.00      0.97      0.98        32\n",
      "    chickpea       1.00      1.00      1.00        28\n",
      "     coconut       1.00      1.00      1.00        28\n",
      "      coffee       1.00      1.00      1.00        37\n",
      "      cotton       1.00      1.00      1.00        28\n",
      "      grapes       1.00      1.00      1.00        33\n",
      "        jute       0.94      0.97      0.96        34\n",
      " kidneybeans       1.00      1.00      1.00        29\n",
      "      lentil       1.00      1.00      1.00        33\n",
      "       maize       0.96      1.00      0.98        25\n",
      "       mango       1.00      1.00      1.00        28\n",
      "   mothbeans       1.00      1.00      1.00        36\n",
      "    mungbean       1.00      1.00      1.00        32\n",
      "   muskmelon       1.00      1.00      1.00        29\n",
      "      orange       1.00      1.00      1.00        30\n",
      "      papaya       1.00      1.00      1.00        32\n",
      "  pigeonpeas       1.00      1.00      1.00        22\n",
      " pomegranate       1.00      1.00      1.00        30\n",
      "        rice       0.97      0.94      0.95        31\n",
      "  watermelon       1.00      1.00      1.00        27\n",
      "\n",
      "    accuracy                           0.99       660\n",
      "   macro avg       0.99      0.99      0.99       660\n",
      "weighted avg       0.99      0.99      0.99       660\n",
      "\n"
     ]
    }
   ],
   "source": [
    "from sklearn.ensemble import RandomForestClassifier\n",
    "\n",
    "RF = RandomForestClassifier(n_estimators=100, random_state=42)\n",
    "RF.fit(X_train,y_train)\n",
    "\n",
    "predicted_values = RF.predict(X_test)\n",
    "\n",
    "x = metrics.accuracy_score(y_test, predicted_values)\n",
    "acc.append(x)\n",
    "model.append('RF')\n",
    "print(\"RF's Accuracy is: \", x)\n",
    "\n",
    "print(classification_report(y_test,predicted_values))"
   ]
  },
  {
   "cell_type": "code",
   "execution_count": 155,
   "metadata": {},
   "outputs": [],
   "source": [
    "import pickle\n",
    "# Dump the trained Naive Bayes classifier with Pickle\n",
    "RF_pkl_filename = '../models/RandomForest.pkl'\n",
    "# Open the file to save as pkl file\n",
    "RF_Model_pkl = open(RF_pkl_filename, 'wb')\n",
    "pickle.dump(RF, RF_Model_pkl)\n",
    "# Close the pickle instances\n",
    "RF_Model_pkl.close()"
   ]
  },
  {
   "cell_type": "code",
   "execution_count": 156,
   "metadata": {},
   "outputs": [
    {
     "data": {
      "text/plain": [
       "<Axes: title={'center': 'Accuracy Comparison'}, xlabel='Accuracy', ylabel='Algorithm'>"
      ]
     },
     "execution_count": 156,
     "metadata": {},
     "output_type": "execute_result"
    },
    {
     "data": {
      "image/png": "[encoded data removed]",
      "text/plain": [
       "<Figure size 1000x500 with 1 Axes>"
      ]
     },
     "metadata": {},
     "output_type": "display_data"
    }
   ],
   "source": [
    "plt.figure(figsize=[10,5],dpi = 100)\n",
    "plt.title('Accuracy Comparison')\n",
    "plt.xlabel('Accuracy')\n",
    "plt.ylabel('Algorithm')\n",
    "sns.barplot(x = acc,y = model,palette='dark')"
   ]
  },
  {
   "cell_type": "code",
   "execution_count": 157,
   "metadata": {},
   "outputs": [
    {
     "name": "stdout",
     "output_type": "stream",
     "text": [
      "Decision Tree --> 0.8681818181818182\n",
      "Naive Bayes --> 0.9954545454545455\n",
      "SVM --> 0.9863636363636363\n",
      "Logistic Regression --> 0.956060606060606\n",
      "RF --> 0.9939393939393939\n"
     ]
    }
   ],
   "source": [
    "accuracy_models = dict(zip(model, acc))\n",
    "for k, v in accuracy_models.items():\n",
    "    print (k, '-->', v)"
   ]
  },
  {
   "cell_type": "code",
   "execution_count": 166,
   "metadata": {},
   "outputs": [
    {
     "name": "stdout",
     "output_type": "stream",
     "text": [
      "['coffee']\n"
     ]
    }
   ],
   "source": [
    "data = np.array([[104,18, 30, 23.603016, 60.3, 6.7, 140.91]])\n",
    "prediction = RF.predict(data)\n",
    "print(prediction)"
   ]
  },
  {
   "cell_type": "code",
   "execution_count": 159,
   "metadata": {},
   "outputs": [
    {
     "name": "stdout",
     "output_type": "stream",
     "text": [
      "['jute']\n"
     ]
    }
   ],
   "source": [
    "data = np.array([[83, 45, 60, 28, 70.3, 7.0, 150.9]])\n",
    "prediction = RF.predict(data)\n",
    "print(prediction)"
   ]
  },
  {
   "cell_type": "code",
   "execution_count": 160,
   "metadata": {},
   "outputs": [
    {
     "name": "stdout",
     "output_type": "stream",
     "text": [
      "['kidneybeans']\n"
     ]
    }
   ],
   "source": [
    "data = np.array([[33, 4, 16, 88, 10.3, 9.0, 200.9]])\n",
    "prediction = RF.predict(data)\n",
    "print(prediction)"
   ]
  },
  {
   "cell_type": "code",
   "execution_count": null,
   "metadata": {},
   "outputs": [],
   "source": []
  },
  {
   "cell_type": "code",
   "execution_count": null,
   "metadata": {},
   "outputs": [],
   "source": []
  }
 ],
 "metadata": {
  "colab": {
   "collapsed_sections": [],
   "name": "Crop_prediction_System.ipynb",
   "provenance": []
  },
  "kernelspec": {
   "display_name": "Python 3 (ipykernel)",
   "language": "python",
   "name": "python3"
  },
  "language_info": {
   "codemirror_mode": {
    "name": "ipython",
    "version": 3
   },
   "file_extension": ".py",
   "mimetype": "text/x-python",
   "name": "python",
   "nbconvert_exporter": "python",
   "pygments_lexer": "ipython3",
   "version": "3.11.7"
  }
 },
 "nbformat": 4,
 "nbformat_minor": 4
}
